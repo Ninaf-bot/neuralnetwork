{
  "nbformat": 4,
  "nbformat_minor": 0,
  "metadata": {
    "colab": {
      "name": "code_for_imbalanced_dataset.ipynb",
      "provenance": [],
      "include_colab_link": true
    },
    "kernelspec": {
      "name": "python3",
      "display_name": "Python 3"
    },
    "accelerator": "TPU"
  },
  "cells": [
    {
      "cell_type": "markdown",
      "metadata": {
        "id": "view-in-github",
        "colab_type": "text"
      },
      "source": [
        "<a href=\"https://colab.research.google.com/github/Ninaf-bot/neuralnetwork/blob/master/code_for_imbalanced_dataset.ipynb\" target=\"_parent\"><img src=\"https://colab.research.google.com/assets/colab-badge.svg\" alt=\"Open In Colab\"/></a>"
      ]
    },
    {
      "cell_type": "code",
      "metadata": {
        "id": "0UJxuwiYaaSr",
        "colab_type": "code",
        "outputId": "91ff1c9e-a47d-43ce-80ce-b929246ab7c9",
        "colab": {
          "base_uri": "https://localhost:8080/",
          "height": 105
        }
      },
      "source": [
        "import tensorflow as tf\n",
        "from tensorflow.keras import layers\n",
        "import numpy as np\n",
        "import pandas as pd\n",
        "from sklearn import preprocessing\n",
        "from sklearn.feature_selection import SelectKBest\n",
        "import seaborn as sns\n",
        "import matplotlib.pyplot as plt\n",
        "from sklearn.decomposition import PCA\n",
        "from sklearn.model_selection import train_test_split\n",
        "import time\n",
        "from tensorflow.keras.callbacks import TensorBoard\n",
        "from imblearn.over_sampling import SMOTE\n",
        "from sklearn import metrics\n",
        "from tensorflow.keras.callbacks import ModelCheckpoint\n",
        "from tensorflow.keras.models import load_model\n",
        "from sklearn.ensemble import RandomForestClassifier\n",
        "from sklearn.utils import resample,class_weight\n",
        "from sklearn.feature_selection import chi2\n",
        "\n",
        "\n",
        "train_set=pd.read_csv('/content/drive/My Drive/dataSet/Train.csv')\n",
        "train_set=train_set.drop(['Col1'],1)\n"
      ],
      "execution_count": 2,
      "outputs": [
        {
          "output_type": "stream",
          "text": [
            "/usr/local/lib/python3.6/dist-packages/sklearn/externals/six.py:31: DeprecationWarning: The module is deprecated in version 0.21 and will be removed in version 0.23 since we've dropped support for Python 2.7. Please rely on the official version of six (https://pypi.org/project/six/).\n",
            "  \"(https://pypi.org/project/six/).\", DeprecationWarning)\n",
            "/usr/local/lib/python3.6/dist-packages/IPython/core/interactiveshell.py:2718: DtypeWarning: Columns (746,835) have mixed types. Specify dtype option on import or set low_memory=False.\n",
            "  interactivity=interactivity, compiler=compiler, result=result)\n"
          ],
          "name": "stderr"
        }
      ]
    },
    {
      "cell_type": "code",
      "metadata": {
        "id": "zLuvBsQzYjQ3",
        "colab_type": "code",
        "outputId": "56dc6c8e-3295-4266-9cd5-adbea6420cdb",
        "colab": {
          "base_uri": "https://localhost:8080/",
          "height": 85
        }
      },
      "source": [
        "fill_value=-999999\n",
        "\n",
        "#train_set=train_set.fillna(fill_value)\n",
        "train_set=train_set.convert_objects(convert_numeric=True)\n",
        "train_set=train_set.fillna(fill_value)\n",
        "x=train_set.drop(['Col2'],1)\n",
        "y=train_set[['Col2']]\n",
        "y_1=y[y['Col2']==1]\n",
        "y_0=y[y['Col2']==0]\n",
        "train_set.shape"
      ],
      "execution_count": 3,
      "outputs": [
        {
          "output_type": "stream",
          "text": [
            "/usr/local/lib/python3.6/dist-packages/ipykernel_launcher.py:4: FutureWarning: convert_objects is deprecated.  To re-infer data dtypes for object columns, use DataFrame.infer_objects()\n",
            "For all other conversions use the data-type specific converters pd.to_datetime, pd.to_timedelta and pd.to_numeric.\n",
            "  after removing the cwd from sys.path.\n"
          ],
          "name": "stderr"
        },
        {
          "output_type": "execute_result",
          "data": {
            "text/plain": [
              "(17521, 2394)"
            ]
          },
          "metadata": {
            "tags": []
          },
          "execution_count": 3
        }
      ]
    },
    {
      "cell_type": "code",
      "metadata": {
        "id": "stRzCuwFUlGm",
        "colab_type": "code",
        "colab": {}
      },
      "source": [
        "y=np.array(y)\n",
        "x_main=x\n",
        "Scaler_0_1=preprocessing.MinMaxScaler(feature_range=(0,1000000)).fit(x)\n",
        "x=Scaler_0_1.transform(x)\n",
        "N_input=525\n",
        "bestfeatures=SelectKBest(score_func=chi2,k=N_input)\n",
        "select=bestfeatures.fit(x,y)\n",
        "#dfscores = pd.DataFrame(select.scores_)\n",
        "#dfcolumns = pd.DataFrame(x.columns)\n",
        "#featureScores = pd.concat([dfcolumns,dfscores],axis=1)\n",
        "#featureScores.columns = ['Specs','Score']\n",
        "#featureScores=featureScores.nlargest(525,'Score')\n",
        "x_select=select.transform(x)\n",
        "x_select=pd.DataFrame(x_select)\n"
      ],
      "execution_count": 0,
      "outputs": []
    },
    {
      "cell_type": "code",
      "metadata": {
        "id": "gMF8wIR2WfkZ",
        "colab_type": "code",
        "colab": {}
      },
      "source": [
        "x_select.columns=featureScores['Specs']\n",
        "d=[]\n",
        "for i in x.columns:\n",
        "  if i not in x_select.columns:\n",
        "    d.append(i)\n",
        "x_not_select=pd.DataFrame()\n",
        "for i in d:\n",
        "  x_not_select[i]=x[i]\n"
      ],
      "execution_count": 0,
      "outputs": []
    },
    {
      "cell_type": "code",
      "metadata": {
        "id": "S0SC5EW1adJr",
        "colab_type": "code",
        "colab": {}
      },
      "source": [
        "\n",
        "Scaler=preprocessing.StandardScaler().fit(x_select)\n",
        "x_select_scaled=Scaler.transform(x_select)\n",
        "\n",
        "x_train,x_test,y_train,y_test=train_test_split(x_select_scaled,y,test_size=0.09,shuffle=1,random_state=0)"
      ],
      "execution_count": 0,
      "outputs": []
    },
    {
      "cell_type": "code",
      "metadata": {
        "id": "G2g4HZk_B_xz",
        "colab_type": "code",
        "outputId": "7c074362-28cc-4cfd-b4d7-742eaa1313d7",
        "colab": {
          "base_uri": "https://localhost:8080/",
          "height": 88
        }
      },
      "source": [
        "sm=SMOTE(random_state=27,ratio=1)\n",
        "x_train_sm,y_train_sm=sm.fit_sample(x_train,y_train)\n",
        "x_train_sm.max().max()"
      ],
      "execution_count": 6,
      "outputs": [
        {
          "output_type": "stream",
          "text": [
            "/usr/local/lib/python3.6/dist-packages/sklearn/utils/validation.py:724: DataConversionWarning: A column-vector y was passed when a 1d array was expected. Please change the shape of y to (n_samples, ), for example using ravel().\n",
            "  y = column_or_1d(y, warn=True)\n"
          ],
          "name": "stderr"
        },
        {
          "output_type": "execute_result",
          "data": {
            "text/plain": [
              "118.57778986052486"
            ]
          },
          "metadata": {
            "tags": []
          },
          "execution_count": 6
        }
      ]
    },
    {
      "cell_type": "code",
      "metadata": {
        "id": "CqB2lbSDzYbz",
        "colab_type": "code",
        "colab": {}
      },
      "source": [
        "x_train=pd.DataFrame(x_train)\n",
        "y_train=pd.DataFrame(y_train)\n",
        "dataset=pd.concat([x_train,y_train],axis=1)\n",
        "dataset_1=dataset[dataset.iloc[:,-1]==1]\n",
        "dataset_0=dataset[dataset.iloc[:,-1]==0]\n",
        "\n",
        "upsample=resample(dataset_1,replace=1,n_samples=len(dataset_0),random_state=27)\n",
        "\n",
        "dataset_1_usm=pd.concat([dataset_1,upsample])\n",
        "dataset_train=pd.concat([dataset_0,dataset_1_usm])\n",
        "x_train_usm=dataset_train.iloc[:,0:-1]\n",
        "y_train_usm=dataset_train.iloc[:,-1]"
      ],
      "execution_count": 0,
      "outputs": []
    },
    {
      "cell_type": "code",
      "metadata": {
        "id": "4pV9kjEnl-e9",
        "colab_type": "code",
        "outputId": "4b9274fb-9101-468c-ae1b-29027df3dce8",
        "colab": {
          "base_uri": "https://localhost:8080/",
          "height": 85
        }
      },
      "source": [
        "\n",
        "#Scaler=preprocessing.RobustScaler().fit(x_select)\n",
        "#Scaler=preprocessing.Normalizer().fit(x_select)\n",
        "#Scaler=preprocessing.MinMaxScaler(feature_range=(-1,1)).fit(x_select)\n",
        "#Scaler=preprocessing.MaxAbsScaler().fit(x_select)\n",
        "\n",
        "\n",
        "\n",
        "#x_train_local_scaled=Scaler.transform(x_train_local)\n",
        "#x_test_local_scaled=Scaler.transform(x_test_local)\n",
        "train=pd.DataFrame(x_train_sm)\n",
        "print(x_train.max().max())\n",
        "print(x_train.min().min())\n",
        "x_train_sm=x_train_sm/119\n",
        "x_train=x_train/119\n",
        "x_test=x_test/119\n",
        "train=pd.DataFrame(x_train_sm)\n",
        "print(x_train.max().max())\n",
        "print(x_train.min().min())\n",
        "\n",
        "#train.to_csv('n.csv')"
      ],
      "execution_count": 7,
      "outputs": [
        {
          "output_type": "stream",
          "text": [
            "118.57778986052486\n",
            "-2.022462470615713\n",
            "0.9964520156346627\n",
            "-0.01699548294635053\n"
          ],
          "name": "stdout"
        }
      ]
    },
    {
      "cell_type": "code",
      "metadata": {
        "id": "lTtR5O-QJaZN",
        "colab_type": "code",
        "colab": {
          "base_uri": "https://localhost:8080/",
          "height": 88
        },
        "outputId": "91c1a452-9452-449e-b7dc-e0794dc283b4"
      },
      "source": [
        "y_train=pd.DataFrame(y_train)\n",
        "class_weights = class_weight.compute_class_weight('balanced',(0,1),y_train)\n",
        "y_train=np.array(y_train)\n",
        "class_weights"
      ],
      "execution_count": 8,
      "outputs": [
        {
          "output_type": "stream",
          "text": [
            "/usr/local/lib/python3.6/dist-packages/sklearn/preprocessing/label.py:235: DataConversionWarning: A column-vector y was passed when a 1d array was expected. Please change the shape of y to (n_samples, ), for example using ravel().\n",
            "  y = column_or_1d(y, warn=True)\n"
          ],
          "name": "stderr"
        },
        {
          "output_type": "execute_result",
          "data": {
            "text/plain": [
              "array([0.55534657, 5.01699182])"
            ]
          },
          "metadata": {
            "tags": []
          },
          "execution_count": 8
        }
      ]
    },
    {
      "cell_type": "code",
      "metadata": {
        "id": "XypBHr-GYUAr",
        "colab_type": "code",
        "outputId": "a2ce194c-9722-4b63-be5d-24d8c5aa51d3",
        "colab": {
          "base_uri": "https://localhost:8080/",
          "height": 782
        }
      },
      "source": [
        "\n",
        "\n",
        "\n",
        "#name='model3-{}'.format(int(time.time()))\n",
        "#tensorboard=TensorBoard(log_dir='logs/{}'.format(name))\n",
        "\n",
        "\n",
        "\n",
        "model=tf.keras.Sequential([\n",
        "                     layers.Dense(600,activation='relu',input_shape=(N_input,)),\n",
        "                     layers.Dropout(0.2),\n",
        "                     layers.Dense(600,activation='relu'),\n",
        "                     layers.Dropout(0.2),\n",
        "                     #layers.Dense(500,activation='relu'),\n",
        "                     #layers.Dropout(0.2),\n",
        "                     #layers.Dense(500,activation='relu'),\n",
        "                     layers.Dense(2,activation='softmax')\n",
        "])\n",
        "#opt = tf.keras.optimizers.Adam(lr=0.001, decay=1e-6)\n",
        "opt = tf.keras.optimizers.Adam()\n",
        "model.compile(optimizer=opt,loss='sparse_categorical_crossentropy',metrics=['accuracy'])\n",
        "\n",
        "checkpointer=ModelCheckpoint(filepath='model1.hdf5',monitor='val_loss',verbose=2,save_best_only=True)\n",
        "\n",
        "model.fit(x_train,y_train,epochs=10,batch_size=200,validation_data=(x_test,y_test),callbacks=[checkpointer],class_weight={0:1.6,1:5.01699182})\n",
        "#model.evaluate(x_test_local_scaled,y_test_local)\n",
        "\n",
        "new_model=load_model('model1.hdf5')\n",
        "\n",
        "y_pred=new_model.predict(x_test)\n",
        "\n",
        "y_pred=pd.DataFrame(y_pred)\n",
        "b=[]\n",
        "for i in y_pred.values:\n",
        "  if i[0]>i[1]:\n",
        "    b.append(0)\n",
        "  else:\n",
        "    b.append(1)\n",
        "\n",
        "y_pred=pd.DataFrame(b)\n",
        "\n",
        "metrics.accuracy_score(y_test,y_pred),metrics.f1_score(y_test,y_pred),metrics.precision_score(y_test,y_pred),metrics.recall_score(y_test,y_pred)"
      ],
      "execution_count": 98,
      "outputs": [
        {
          "output_type": "stream",
          "text": [
            "Train on 15944 samples, validate on 1577 samples\n",
            "Epoch 1/10\n",
            "15800/15944 [============================>.] - ETA: 0s - loss: 1.0543 - acc: 0.8837\n",
            "Epoch 00001: val_loss improved from inf to 0.36593, saving model to model1.hdf5\n",
            "15944/15944 [==============================] - 13s 836us/sample - loss: 1.0529 - acc: 0.8841 - val_loss: 0.3659 - val_acc: 0.8878\n",
            "Epoch 2/10\n",
            "15800/15944 [============================>.] - ETA: 0s - loss: 0.9966 - acc: 0.8821\n",
            "Epoch 00002: val_loss did not improve from 0.36593\n",
            "15944/15944 [==============================] - 3s 162us/sample - loss: 0.9972 - acc: 0.8820 - val_loss: 0.3689 - val_acc: 0.8814\n",
            "Epoch 3/10\n",
            "15800/15944 [============================>.] - ETA: 0s - loss: 0.9906 - acc: 0.8778\n",
            "Epoch 00003: val_loss did not improve from 0.36593\n",
            "15944/15944 [==============================] - 3s 161us/sample - loss: 0.9879 - acc: 0.8782 - val_loss: 0.3878 - val_acc: 0.8802\n",
            "Epoch 4/10\n",
            "15800/15944 [============================>.] - ETA: 0s - loss: 0.9771 - acc: 0.8810\n",
            "Epoch 00004: val_loss improved from 0.36593 to 0.35064, saving model to model1.hdf5\n",
            "15944/15944 [==============================] - 3s 165us/sample - loss: 0.9770 - acc: 0.8811 - val_loss: 0.3506 - val_acc: 0.8827\n",
            "Epoch 5/10\n",
            "15800/15944 [============================>.] - ETA: 0s - loss: 0.9748 - acc: 0.8800\n",
            "Epoch 00005: val_loss did not improve from 0.35064\n",
            "15944/15944 [==============================] - 3s 161us/sample - loss: 0.9764 - acc: 0.8798 - val_loss: 0.3899 - val_acc: 0.8789\n",
            "Epoch 6/10\n",
            "15800/15944 [============================>.] - ETA: 0s - loss: 0.9730 - acc: 0.8822\n",
            "Epoch 00006: val_loss did not improve from 0.35064\n",
            "15944/15944 [==============================] - 2s 151us/sample - loss: 0.9727 - acc: 0.8819 - val_loss: 0.3917 - val_acc: 0.8744\n",
            "Epoch 7/10\n",
            "15800/15944 [============================>.] - ETA: 0s - loss: 0.9650 - acc: 0.8806\n",
            "Epoch 00007: val_loss did not improve from 0.35064\n",
            "15944/15944 [==============================] - 2s 153us/sample - loss: 0.9638 - acc: 0.8809 - val_loss: 0.3535 - val_acc: 0.8827\n",
            "Epoch 8/10\n",
            "15800/15944 [============================>.] - ETA: 0s - loss: 0.9587 - acc: 0.8817\n",
            "Epoch 00008: val_loss did not improve from 0.35064\n",
            "15944/15944 [==============================] - 2s 145us/sample - loss: 0.9586 - acc: 0.8818 - val_loss: 0.3543 - val_acc: 0.8833\n",
            "Epoch 9/10\n",
            "15800/15944 [============================>.] - ETA: 0s - loss: 0.9499 - acc: 0.8846\n",
            "Epoch 00009: val_loss did not improve from 0.35064\n",
            "15944/15944 [==============================] - 2s 137us/sample - loss: 0.9503 - acc: 0.8844 - val_loss: 0.3643 - val_acc: 0.8852\n",
            "Epoch 10/10\n",
            "15600/15944 [============================>.] - ETA: 0s - loss: 0.9457 - acc: 0.8822\n",
            "Epoch 00010: val_loss did not improve from 0.35064\n",
            "15944/15944 [==============================] - 2s 136us/sample - loss: 0.9435 - acc: 0.8825 - val_loss: 0.3814 - val_acc: 0.8744\n"
          ],
          "name": "stdout"
        },
        {
          "output_type": "execute_result",
          "data": {
            "text/plain": [
              "(0.8826886493341788,\n",
              " 0.3321299638989169,\n",
              " 0.4380952380952381,\n",
              " 0.26744186046511625)"
            ]
          },
          "metadata": {
            "tags": []
          },
          "execution_count": 98
        }
      ]
    },
    {
      "cell_type": "code",
      "metadata": {
        "id": "7_dBo-mzbY_7",
        "colab_type": "code",
        "outputId": "471997fb-4235-4db7-dfa3-7a24990f51c8",
        "colab": {
          "base_uri": "https://localhost:8080/",
          "height": 85
        }
      },
      "source": [
        "new_model=load_model('model1.hdf5')\n",
        "\n",
        "y_pred=new_model.predict(x_test)\n",
        "\n",
        "y_pred=pd.DataFrame(y_pred)\n",
        "b=[]\n",
        "for i in y_pred.values:\n",
        "  if i[0]>0.5:\n",
        "    b.append(0)\n",
        "  else:\n",
        "    b.append(1)\n",
        "\n",
        "y_pred=pd.DataFrame(b)\n",
        "\n",
        "metrics.accuracy_score(y_test,y_pred),metrics.f1_score(y_test,y_pred),metrics.precision_score(y_test,y_pred),metrics.recall_score(y_test,y_pred)"
      ],
      "execution_count": 106,
      "outputs": [
        {
          "output_type": "execute_result",
          "data": {
            "text/plain": [
              "(0.8826886493341788,\n",
              " 0.3321299638989169,\n",
              " 0.4380952380952381,\n",
              " 0.26744186046511625)"
            ]
          },
          "metadata": {
            "tags": []
          },
          "execution_count": 106
        }
      ]
    },
    {
      "cell_type": "code",
      "metadata": {
        "id": "JzOB84dibXyK",
        "colab_type": "code",
        "outputId": "104a0acf-354d-49c1-a452-6e6b37a29081",
        "colab": {
          "base_uri": "https://localhost:8080/",
          "height": 731
        }
      },
      "source": [
        "model=tf.keras.Sequential([\n",
        "                     layers.Dense(500,activation='relu',input_shape=(525,)),\n",
        "                     layers.Dropout(0.2),\n",
        "                     layers.Dense(500,activation='relu'),\n",
        "                     layers.Dropout(0.2),\n",
        "                     layers.Dense(500,activation='relu'),\n",
        "                     #layers.Dropout(0.2),\n",
        "                     #layers.Dense(100,activation='relu'),\n",
        "                     layers.Dense(2,activation='softmax')\n",
        "])\n",
        "opt = tf.keras.optimizers.Adam(lr=0.001, decay=1e-6)\n",
        "#opt = tf.keras.optimizers.Adam()\n",
        "model.compile(optimizer=opt,loss='sparse_categorical_crossentropy',metrics=['accuracy'])\n",
        "\n",
        "checkpointer=ModelCheckpoint(filepath='model2.hdf5',monitor='val_loss',verbose=2,save_best_only=True)\n",
        "\n",
        "model.fit(x_train_sm,y_train_sm,epochs=10,batch_size=200,validation_data=(x_test,y_test),callbacks=[checkpointer])\n",
        "\n",
        "new_model=load_model('model2.hdf5')\n",
        "\n",
        "y_pred=new_model.predict(x_test)\n",
        "\n",
        "y_pred=pd.DataFrame(y_pred)\n",
        "b=[]\n",
        "for i in y_pred.values:\n",
        "  if i[0]>i[1]:\n",
        "    b.append(0)\n",
        "  else:\n",
        "    b.append(1)\n",
        "\n",
        "y_pred=pd.DataFrame(b)\n",
        "\n",
        "metrics.accuracy_score(y_test,y_pred),metrics.f1_score(y_test,y_pred),metrics.precision_score(y_test,y_pred),metrics.recall_score(y_test,y_pred)"
      ],
      "execution_count": 0,
      "outputs": [
        {
          "output_type": "stream",
          "text": [
            "Train on 17922 samples, validate on 1577 samples\n",
            "Epoch 1/10\n",
            "17800/17922 [============================>.] - ETA: 0s - loss: 0.4681 - acc: 0.7996\n",
            "Epoch 00001: val_loss improved from inf to 0.31670, saving model to model2.hdf5\n",
            "17922/17922 [==============================] - 22s 1ms/sample - loss: 0.4680 - acc: 0.7996 - val_loss: 0.3167 - val_acc: 0.9017\n",
            "Epoch 2/10\n",
            "16800/17922 [===========================>..] - ETA: 0s - loss: 0.4424 - acc: 0.8082\n",
            "Epoch 00002: val_loss did not improve from 0.31670\n",
            "17922/17922 [==============================] - 1s 41us/sample - loss: 0.4429 - acc: 0.8078 - val_loss: 0.3368 - val_acc: 0.8890\n",
            "Epoch 3/10\n",
            "17000/17922 [===========================>..] - ETA: 0s - loss: 0.4354 - acc: 0.8099\n",
            "Epoch 00003: val_loss did not improve from 0.31670\n",
            "17922/17922 [==============================] - 1s 40us/sample - loss: 0.4348 - acc: 0.8100 - val_loss: 0.3340 - val_acc: 0.8960\n",
            "Epoch 4/10\n",
            "16600/17922 [==========================>...] - ETA: 0s - loss: 0.4268 - acc: 0.8148\n",
            "Epoch 00004: val_loss did not improve from 0.31670\n",
            "17922/17922 [==============================] - 1s 42us/sample - loss: 0.4258 - acc: 0.8145 - val_loss: 0.3321 - val_acc: 0.8928\n",
            "Epoch 5/10\n",
            "16800/17922 [===========================>..] - ETA: 0s - loss: 0.4169 - acc: 0.8170\n",
            "Epoch 00005: val_loss did not improve from 0.31670\n",
            "17922/17922 [==============================] - 1s 41us/sample - loss: 0.4175 - acc: 0.8169 - val_loss: 0.3585 - val_acc: 0.8776\n",
            "Epoch 6/10\n",
            "16600/17922 [==========================>...] - ETA: 0s - loss: 0.4011 - acc: 0.8211\n",
            "Epoch 00006: val_loss did not improve from 0.31670\n",
            "17922/17922 [==============================] - 1s 42us/sample - loss: 0.4014 - acc: 0.8214 - val_loss: 0.3363 - val_acc: 0.8979\n",
            "Epoch 7/10\n",
            "17000/17922 [===========================>..] - ETA: 0s - loss: 0.3919 - acc: 0.8326\n",
            "Epoch 00007: val_loss did not improve from 0.31670\n",
            "17922/17922 [==============================] - 1s 41us/sample - loss: 0.3930 - acc: 0.8323 - val_loss: 0.3538 - val_acc: 0.8859\n",
            "Epoch 8/10\n",
            "16800/17922 [===========================>..] - ETA: 0s - loss: 0.3776 - acc: 0.8357\n",
            "Epoch 00008: val_loss did not improve from 0.31670\n",
            "17922/17922 [==============================] - 1s 41us/sample - loss: 0.3759 - acc: 0.8369 - val_loss: 0.3526 - val_acc: 0.8890\n",
            "Epoch 9/10\n",
            "16800/17922 [===========================>..] - ETA: 0s - loss: 0.3612 - acc: 0.8487\n",
            "Epoch 00009: val_loss did not improve from 0.31670\n",
            "17922/17922 [==============================] - 1s 41us/sample - loss: 0.3610 - acc: 0.8488 - val_loss: 0.3630 - val_acc: 0.8782\n",
            "Epoch 10/10\n",
            "16800/17922 [===========================>..] - ETA: 0s - loss: 0.3483 - acc: 0.8533\n",
            "Epoch 00010: val_loss did not improve from 0.31670\n",
            "17922/17922 [==============================] - 1s 42us/sample - loss: 0.3480 - acc: 0.8540 - val_loss: 0.3571 - val_acc: 0.8757\n"
          ],
          "name": "stdout"
        },
        {
          "output_type": "execute_result",
          "data": {
            "text/plain": [
              "(0.901712111604312, 0.037267080745341616, 0.5, 0.01935483870967742)"
            ]
          },
          "metadata": {
            "tags": []
          },
          "execution_count": 159
        }
      ]
    },
    {
      "cell_type": "code",
      "metadata": {
        "id": "egel2iGR6UR0",
        "colab_type": "code",
        "colab": {}
      },
      "source": [
        "model=tf.keras.Sequential([\n",
        "                     layers.Dense(500,activation='relu',input_shape=(525,)),\n",
        "                     layers.Dropout(0.2),\n",
        "                     layers.Dense(500,activation='relu'),\n",
        "                     layers.Dropout(0.2),\n",
        "                     layers.Dense(500,activation='relu'),\n",
        "                     #layers.Dropout(0.2),\n",
        "                     #layers.Dense(100,activation='relu'),\n",
        "                     layers.Dense(2,activation='softmax')\n",
        "])\n",
        "opt = tf.keras.optimizers.Adam(lr=0.001, decay=1e-6)\n",
        "#opt = tf.keras.optimizers.Adam()\n",
        "model.compile(optimizer=opt,loss='sparse_categorical_crossentropy',metrics=['accuracy'])\n",
        "\n",
        "checkpointer=ModelCheckpoint(filepath='model3.hdf5',monitor='val_loss',verbose=2,save_best_only=True)\n",
        "\n",
        "model.fit(x_train,y_train,epochs=20,batch_size=200,validation_data=(x_test,y_test),callbacks=[checkpointer])\n",
        "\n",
        "new_model=load_model('model3.hdf5')\n",
        "\n",
        "y_pred=new_model.predict(x_test)\n",
        "\n",
        "y_pred=pd.DataFrame(y_pred)\n",
        "b=[]\n",
        "for i in y_pred.values:\n",
        "  if i[0]>i[1]:\n",
        "    b.append(0)\n",
        "  else:\n",
        "    b.append(1)\n",
        "\n",
        "y_pred=pd.DataFrame(b)\n",
        "\n",
        "metrics.accuracy_score(y_test,y_pred),metrics.f1_score(y_test,y_pred),metrics.precision_score(y_test,y_pred),metrics.recall_score(y_test,y_pred)"
      ],
      "execution_count": 0,
      "outputs": []
    },
    {
      "cell_type": "code",
      "metadata": {
        "id": "YSIrjmzgoA7Y",
        "colab_type": "code",
        "outputId": "bd5305ff-adca-4294-ab0c-c4cf98fc55b7",
        "colab": {
          "base_uri": "https://localhost:8080/",
          "height": 85
        }
      },
      "source": [
        "clf=RandomForestClassifier(n_estimators=200)\n",
        "clf.fit(x_train_sm,y_train_sm)\n",
        "\n",
        "y_pred=clf.predict(x_test)\n",
        "\n",
        "metrics.accuracy_score(y_test,y_pred),metrics.f1_score(y_test,y_pred),metrics.precision_score(y_test,y_pred),metrics.recall_score(y_test,y_pred)"
      ],
      "execution_count": 0,
      "outputs": [
        {
          "output_type": "execute_result",
          "data": {
            "text/plain": [
              "(0.8490805326569436,\n",
              " 0.14388489208633093,\n",
              " 0.1834862385321101,\n",
              " 0.11834319526627218)"
            ]
          },
          "metadata": {
            "tags": []
          },
          "execution_count": 213
        }
      ]
    },
    {
      "cell_type": "code",
      "metadata": {
        "id": "ocA6Wy9BrLaJ",
        "colab_type": "code",
        "outputId": "0a5d6088-6b14-4906-deae-0cc0c9b702a8",
        "colab": {
          "base_uri": "https://localhost:8080/",
          "height": 71
        }
      },
      "source": [
        "predict_set=pd.read_csv('/content/drive/My Drive/dataSet/Test.csv')\n",
        "x_predict=predict_set.drop(['Col1'],1)\n",
        "ids=predict_set['Col1']"
      ],
      "execution_count": 107,
      "outputs": [
        {
          "output_type": "stream",
          "text": [
            "/usr/local/lib/python3.6/dist-packages/IPython/core/interactiveshell.py:2718: DtypeWarning: Columns (700,731,740,752,761,789,811,820,829,841,850) have mixed types. Specify dtype option on import or set low_memory=False.\n",
            "  interactivity=interactivity, compiler=compiler, result=result)\n"
          ],
          "name": "stderr"
        }
      ]
    },
    {
      "cell_type": "code",
      "metadata": {
        "id": "UraQtx35sQM5",
        "colab_type": "code",
        "outputId": "502e2369-6b5a-4f4f-b162-9b34442b8f78",
        "colab": {
          "base_uri": "https://localhost:8080/",
          "height": 85
        }
      },
      "source": [
        "#x_predict=x_predict.fillna(fill_value)\n",
        "x_predict=x_predict.convert_objects(convert_numeric=True)\n",
        "x_predict=x_predict.fillna(fill_value)\n",
        "x_predict.shape"
      ],
      "execution_count": 108,
      "outputs": [
        {
          "output_type": "stream",
          "text": [
            "/usr/local/lib/python3.6/dist-packages/ipykernel_launcher.py:1: FutureWarning: convert_objects is deprecated.  To re-infer data dtypes for object columns, use DataFrame.infer_objects()\n",
            "For all other conversions use the data-type specific converters pd.to_datetime, pd.to_timedelta and pd.to_numeric.\n",
            "  \"\"\"Entry point for launching an IPython kernel.\n"
          ],
          "name": "stderr"
        },
        {
          "output_type": "execute_result",
          "data": {
            "text/plain": [
              "(20442, 2393)"
            ]
          },
          "metadata": {
            "tags": []
          },
          "execution_count": 108
        }
      ]
    },
    {
      "cell_type": "code",
      "metadata": {
        "id": "XUOUZZggr4Pz",
        "colab_type": "code",
        "colab": {}
      },
      "source": [
        "x_predict_0_1=Scaler_0_1.transform(x_predict)\n",
        "\n",
        "x_predict_select=select.transform(x_predict_0_1)\n",
        "#x_predict_select=pd.DataFrame(x_predict_select)\n"
      ],
      "execution_count": 0,
      "outputs": []
    },
    {
      "cell_type": "code",
      "metadata": {
        "id": "UAHtlxVVEaG9",
        "colab_type": "code",
        "colab": {
          "base_uri": "https://localhost:8080/",
          "height": 231
        },
        "outputId": "9d8afe74-f57e-4673-d245-2571b1ca5cca"
      },
      "source": [
        "x_predict_select.columns=featureScores['Specs']\n",
        "\n",
        "f=[]\n",
        "for i in x_predict.columns:\n",
        "  if i not in x_predict_select.columns:\n",
        "    f.append(i)\n",
        "x_predict_not_select=pd.DataFrame()\n",
        "for i in f:\n",
        "  x_predict_not_select[i]=x[i]\n",
        "\n",
        "#x_predict_not_select_scaled=pca_scaler.transform(x_predict_not_select)\n",
        "\n",
        "#x_predict_not_select_pca=pca.transform(x_predict_not_select)\n",
        "#x_predict_not_select_pca=pd.DataFrame(x_predict_not_select_pca)\n",
        "#x_predict_new=pd.concat([x_predict_select,x_predict_not_select_pca],axis=1)"
      ],
      "execution_count": 40,
      "outputs": [
        {
          "output_type": "error",
          "ename": "NameError",
          "evalue": "ignored",
          "traceback": [
            "\u001b[0;31m---------------------------------------------------------------------------\u001b[0m",
            "\u001b[0;31mNameError\u001b[0m                                 Traceback (most recent call last)",
            "\u001b[0;32m<ipython-input-40-c6abbf28fdfc>\u001b[0m in \u001b[0;36m<module>\u001b[0;34m()\u001b[0m\n\u001b[0;32m----> 1\u001b[0;31m \u001b[0mx_predict_select\u001b[0m\u001b[0;34m.\u001b[0m\u001b[0mcolumns\u001b[0m\u001b[0;34m=\u001b[0m\u001b[0mfeatureScores\u001b[0m\u001b[0;34m[\u001b[0m\u001b[0;34m'Specs'\u001b[0m\u001b[0;34m]\u001b[0m\u001b[0;34m\u001b[0m\u001b[0;34m\u001b[0m\u001b[0m\n\u001b[0m\u001b[1;32m      2\u001b[0m \u001b[0;34m\u001b[0m\u001b[0m\n\u001b[1;32m      3\u001b[0m \u001b[0mf\u001b[0m\u001b[0;34m=\u001b[0m\u001b[0;34m[\u001b[0m\u001b[0;34m]\u001b[0m\u001b[0;34m\u001b[0m\u001b[0;34m\u001b[0m\u001b[0m\n\u001b[1;32m      4\u001b[0m \u001b[0;32mfor\u001b[0m \u001b[0mi\u001b[0m \u001b[0;32min\u001b[0m \u001b[0mx_predict\u001b[0m\u001b[0;34m.\u001b[0m\u001b[0mcolumns\u001b[0m\u001b[0;34m:\u001b[0m\u001b[0;34m\u001b[0m\u001b[0;34m\u001b[0m\u001b[0m\n\u001b[1;32m      5\u001b[0m   \u001b[0;32mif\u001b[0m \u001b[0mi\u001b[0m \u001b[0;32mnot\u001b[0m \u001b[0;32min\u001b[0m \u001b[0mx_predict_select\u001b[0m\u001b[0;34m.\u001b[0m\u001b[0mcolumns\u001b[0m\u001b[0;34m:\u001b[0m\u001b[0;34m\u001b[0m\u001b[0;34m\u001b[0m\u001b[0m\n",
            "\u001b[0;31mNameError\u001b[0m: name 'featureScores' is not defined"
          ]
        }
      ]
    },
    {
      "cell_type": "code",
      "metadata": {
        "id": "LWqDyDMRgk_Z",
        "colab_type": "code",
        "colab": {}
      },
      "source": [
        "x_predict_scaled=Scaler.transform(x_predict_select)\n",
        "x_predict_scaled=x_predict_scaled/119\n",
        "\n",
        "new_model=load_model('model1.hdf5')\n",
        "\n",
        "a=new_model.predict(x_predict_scaled)"
      ],
      "execution_count": 0,
      "outputs": []
    },
    {
      "cell_type": "code",
      "metadata": {
        "id": "vJP4aE_BrXj1",
        "colab_type": "code",
        "colab": {}
      },
      "source": [
        "a=pd.DataFrame(a)\n",
        "b=[]\n",
        "for i in a.values:\n",
        "  if i[0]>0.5:\n",
        "    b.append(0)\n",
        "  else:\n",
        "    b.append(1)\n"
      ],
      "execution_count": 0,
      "outputs": []
    },
    {
      "cell_type": "code",
      "metadata": {
        "id": "QMuW7bnS55c0",
        "colab_type": "code",
        "outputId": "c0e5202e-ea24-491a-be0b-52fe8c92c916",
        "colab": {
          "base_uri": "https://localhost:8080/",
          "height": 1000
        }
      },
      "source": [
        "predicted=pd.DataFrame({'Col1':ids,'Col2':b})\n",
        "\n",
        "\n",
        "predicted.to_csv('predicted_select_neural.csv',index=False)\n",
        "model.save('model_neural.model')\n",
        "predicted"
      ],
      "execution_count": 112,
      "outputs": [
        {
          "output_type": "execute_result",
          "data": {
            "text/html": [
              "<div>\n",
              "<style scoped>\n",
              "    .dataframe tbody tr th:only-of-type {\n",
              "        vertical-align: middle;\n",
              "    }\n",
              "\n",
              "    .dataframe tbody tr th {\n",
              "        vertical-align: top;\n",
              "    }\n",
              "\n",
              "    .dataframe thead th {\n",
              "        text-align: right;\n",
              "    }\n",
              "</style>\n",
              "<table border=\"1\" class=\"dataframe\">\n",
              "  <thead>\n",
              "    <tr style=\"text-align: right;\">\n",
              "      <th></th>\n",
              "      <th>Col1</th>\n",
              "      <th>Col2</th>\n",
              "    </tr>\n",
              "  </thead>\n",
              "  <tbody>\n",
              "    <tr>\n",
              "      <th>0</th>\n",
              "      <td>RIGD58ZWD</td>\n",
              "      <td>0</td>\n",
              "    </tr>\n",
              "    <tr>\n",
              "      <th>1</th>\n",
              "      <td>RIH660YDS</td>\n",
              "      <td>0</td>\n",
              "    </tr>\n",
              "    <tr>\n",
              "      <th>2</th>\n",
              "      <td>RIH660Q96</td>\n",
              "      <td>0</td>\n",
              "    </tr>\n",
              "    <tr>\n",
              "      <th>3</th>\n",
              "      <td>RIYDO15W1</td>\n",
              "      <td>0</td>\n",
              "    </tr>\n",
              "    <tr>\n",
              "      <th>4</th>\n",
              "      <td>RIYBGC1ZD</td>\n",
              "      <td>0</td>\n",
              "    </tr>\n",
              "    <tr>\n",
              "      <th>5</th>\n",
              "      <td>RIYBQ5SWR</td>\n",
              "      <td>0</td>\n",
              "    </tr>\n",
              "    <tr>\n",
              "      <th>6</th>\n",
              "      <td>RIYBQ5SD5</td>\n",
              "      <td>0</td>\n",
              "    </tr>\n",
              "    <tr>\n",
              "      <th>7</th>\n",
              "      <td>TI5HU5XY</td>\n",
              "      <td>0</td>\n",
              "    </tr>\n",
              "    <tr>\n",
              "      <th>8</th>\n",
              "      <td>TIYHGOSE</td>\n",
              "      <td>0</td>\n",
              "    </tr>\n",
              "    <tr>\n",
              "      <th>9</th>\n",
              "      <td>T90K61QJ</td>\n",
              "      <td>0</td>\n",
              "    </tr>\n",
              "    <tr>\n",
              "      <th>10</th>\n",
              "      <td>T7VUCSYG</td>\n",
              "      <td>0</td>\n",
              "    </tr>\n",
              "    <tr>\n",
              "      <th>11</th>\n",
              "      <td>T10BV81R</td>\n",
              "      <td>0</td>\n",
              "    </tr>\n",
              "    <tr>\n",
              "      <th>12</th>\n",
              "      <td>T1EWVOZZ</td>\n",
              "      <td>0</td>\n",
              "    </tr>\n",
              "    <tr>\n",
              "      <th>13</th>\n",
              "      <td>TDYO6BYZ</td>\n",
              "      <td>0</td>\n",
              "    </tr>\n",
              "    <tr>\n",
              "      <th>14</th>\n",
              "      <td>TDY6VY5E</td>\n",
              "      <td>0</td>\n",
              "    </tr>\n",
              "    <tr>\n",
              "      <th>15</th>\n",
              "      <td>TYWOUOSR</td>\n",
              "      <td>0</td>\n",
              "    </tr>\n",
              "    <tr>\n",
              "      <th>16</th>\n",
              "      <td>TYGRLBSY</td>\n",
              "      <td>0</td>\n",
              "    </tr>\n",
              "    <tr>\n",
              "      <th>17</th>\n",
              "      <td>TYE6VOKZ</td>\n",
              "      <td>1</td>\n",
              "    </tr>\n",
              "    <tr>\n",
              "      <th>18</th>\n",
              "      <td>TSW65YKE</td>\n",
              "      <td>0</td>\n",
              "    </tr>\n",
              "    <tr>\n",
              "      <th>19</th>\n",
              "      <td>TS5HVY1Z</td>\n",
              "      <td>0</td>\n",
              "    </tr>\n",
              "    <tr>\n",
              "      <th>20</th>\n",
              "      <td>TSMKICK</td>\n",
              "      <td>0</td>\n",
              "    </tr>\n",
              "    <tr>\n",
              "      <th>21</th>\n",
              "      <td>T25ROOSG</td>\n",
              "      <td>0</td>\n",
              "    </tr>\n",
              "    <tr>\n",
              "      <th>22</th>\n",
              "      <td>99LRCY1W</td>\n",
              "      <td>0</td>\n",
              "    </tr>\n",
              "    <tr>\n",
              "      <th>23</th>\n",
              "      <td>99YKLSZ5</td>\n",
              "      <td>0</td>\n",
              "    </tr>\n",
              "    <tr>\n",
              "      <th>24</th>\n",
              "      <td>970WOYQY</td>\n",
              "      <td>0</td>\n",
              "    </tr>\n",
              "    <tr>\n",
              "      <th>25</th>\n",
              "      <td>97MKU1NG</td>\n",
              "      <td>0</td>\n",
              "    </tr>\n",
              "    <tr>\n",
              "      <th>26</th>\n",
              "      <td>9LWB6C1J</td>\n",
              "      <td>0</td>\n",
              "    </tr>\n",
              "    <tr>\n",
              "      <th>27</th>\n",
              "      <td>9L5BQC15</td>\n",
              "      <td>0</td>\n",
              "    </tr>\n",
              "    <tr>\n",
              "      <th>28</th>\n",
              "      <td>9DMD5CKW</td>\n",
              "      <td>0</td>\n",
              "    </tr>\n",
              "    <tr>\n",
              "      <th>29</th>\n",
              "      <td>9Y0IVBQZ</td>\n",
              "      <td>0</td>\n",
              "    </tr>\n",
              "    <tr>\n",
              "      <th>...</th>\n",
              "      <td>...</td>\n",
              "      <td>...</td>\n",
              "    </tr>\n",
              "    <tr>\n",
              "      <th>20412</th>\n",
              "      <td>OL0DIMYR</td>\n",
              "      <td>0</td>\n",
              "    </tr>\n",
              "    <tr>\n",
              "      <th>20413</th>\n",
              "      <td>OL0DIY4Y</td>\n",
              "      <td>0</td>\n",
              "    </tr>\n",
              "    <tr>\n",
              "      <th>20414</th>\n",
              "      <td>OL0DIY49</td>\n",
              "      <td>0</td>\n",
              "    </tr>\n",
              "    <tr>\n",
              "      <th>20415</th>\n",
              "      <td>OL0DIY4E</td>\n",
              "      <td>0</td>\n",
              "    </tr>\n",
              "    <tr>\n",
              "      <th>20416</th>\n",
              "      <td>OL0DIYZ9</td>\n",
              "      <td>0</td>\n",
              "    </tr>\n",
              "    <tr>\n",
              "      <th>20417</th>\n",
              "      <td>OL0DIYZJ</td>\n",
              "      <td>0</td>\n",
              "    </tr>\n",
              "    <tr>\n",
              "      <th>20418</th>\n",
              "      <td>OL0DIYKW</td>\n",
              "      <td>0</td>\n",
              "    </tr>\n",
              "    <tr>\n",
              "      <th>20419</th>\n",
              "      <td>OL0DIYKZ</td>\n",
              "      <td>0</td>\n",
              "    </tr>\n",
              "    <tr>\n",
              "      <th>20420</th>\n",
              "      <td>OL0DIYNJ</td>\n",
              "      <td>0</td>\n",
              "    </tr>\n",
              "    <tr>\n",
              "      <th>20421</th>\n",
              "      <td>OL0DIYYR</td>\n",
              "      <td>0</td>\n",
              "    </tr>\n",
              "    <tr>\n",
              "      <th>20422</th>\n",
              "      <td>OL0DIYYW</td>\n",
              "      <td>0</td>\n",
              "    </tr>\n",
              "    <tr>\n",
              "      <th>20423</th>\n",
              "      <td>OL0DIY59</td>\n",
              "      <td>0</td>\n",
              "    </tr>\n",
              "    <tr>\n",
              "      <th>20424</th>\n",
              "      <td>OL0DIY5D</td>\n",
              "      <td>0</td>\n",
              "    </tr>\n",
              "    <tr>\n",
              "      <th>20425</th>\n",
              "      <td>OL0DIY5E</td>\n",
              "      <td>0</td>\n",
              "    </tr>\n",
              "    <tr>\n",
              "      <th>20426</th>\n",
              "      <td>OL0DIYS5</td>\n",
              "      <td>0</td>\n",
              "    </tr>\n",
              "    <tr>\n",
              "      <th>20427</th>\n",
              "      <td>OL0DI1Z5</td>\n",
              "      <td>0</td>\n",
              "    </tr>\n",
              "    <tr>\n",
              "      <th>20428</th>\n",
              "      <td>OL0DI1ZJ</td>\n",
              "      <td>0</td>\n",
              "    </tr>\n",
              "    <tr>\n",
              "      <th>20429</th>\n",
              "      <td>OL0DVM5W</td>\n",
              "      <td>0</td>\n",
              "    </tr>\n",
              "    <tr>\n",
              "      <th>20430</th>\n",
              "      <td>OL0DV51W</td>\n",
              "      <td>0</td>\n",
              "    </tr>\n",
              "    <tr>\n",
              "      <th>20431</th>\n",
              "      <td>OL0D50YD</td>\n",
              "      <td>0</td>\n",
              "    </tr>\n",
              "    <tr>\n",
              "      <th>20432</th>\n",
              "      <td>OL0IGCNG</td>\n",
              "      <td>0</td>\n",
              "    </tr>\n",
              "    <tr>\n",
              "      <th>20433</th>\n",
              "      <td>OL0ILMXE</td>\n",
              "      <td>0</td>\n",
              "    </tr>\n",
              "    <tr>\n",
              "      <th>20434</th>\n",
              "      <td>OL0IL55Z</td>\n",
              "      <td>0</td>\n",
              "    </tr>\n",
              "    <tr>\n",
              "      <th>20435</th>\n",
              "      <td>OL0IQ55W</td>\n",
              "      <td>0</td>\n",
              "    </tr>\n",
              "    <tr>\n",
              "      <th>20436</th>\n",
              "      <td>OL0I6MQJ</td>\n",
              "      <td>0</td>\n",
              "    </tr>\n",
              "    <tr>\n",
              "      <th>20437</th>\n",
              "      <td>OL0I6O5R</td>\n",
              "      <td>0</td>\n",
              "    </tr>\n",
              "    <tr>\n",
              "      <th>20438</th>\n",
              "      <td>OL0I65ZW</td>\n",
              "      <td>0</td>\n",
              "    </tr>\n",
              "    <tr>\n",
              "      <th>20439</th>\n",
              "      <td>OL0I6CXW</td>\n",
              "      <td>0</td>\n",
              "    </tr>\n",
              "    <tr>\n",
              "      <th>20440</th>\n",
              "      <td>O2VIUO</td>\n",
              "      <td>0</td>\n",
              "    </tr>\n",
              "    <tr>\n",
              "      <th>20441</th>\n",
              "      <td>M7VKV5QD</td>\n",
              "      <td>1</td>\n",
              "    </tr>\n",
              "  </tbody>\n",
              "</table>\n",
              "<p>20442 rows × 2 columns</p>\n",
              "</div>"
            ],
            "text/plain": [
              "            Col1  Col2\n",
              "0      RIGD58ZWD     0\n",
              "1      RIH660YDS     0\n",
              "2      RIH660Q96     0\n",
              "3      RIYDO15W1     0\n",
              "4      RIYBGC1ZD     0\n",
              "5      RIYBQ5SWR     0\n",
              "6      RIYBQ5SD5     0\n",
              "7       TI5HU5XY     0\n",
              "8       TIYHGOSE     0\n",
              "9       T90K61QJ     0\n",
              "10      T7VUCSYG     0\n",
              "11      T10BV81R     0\n",
              "12      T1EWVOZZ     0\n",
              "13      TDYO6BYZ     0\n",
              "14      TDY6VY5E     0\n",
              "15      TYWOUOSR     0\n",
              "16      TYGRLBSY     0\n",
              "17      TYE6VOKZ     1\n",
              "18      TSW65YKE     0\n",
              "19      TS5HVY1Z     0\n",
              "20       TSMKICK     0\n",
              "21      T25ROOSG     0\n",
              "22      99LRCY1W     0\n",
              "23      99YKLSZ5     0\n",
              "24      970WOYQY     0\n",
              "25      97MKU1NG     0\n",
              "26      9LWB6C1J     0\n",
              "27      9L5BQC15     0\n",
              "28      9DMD5CKW     0\n",
              "29      9Y0IVBQZ     0\n",
              "...          ...   ...\n",
              "20412   OL0DIMYR     0\n",
              "20413   OL0DIY4Y     0\n",
              "20414   OL0DIY49     0\n",
              "20415   OL0DIY4E     0\n",
              "20416   OL0DIYZ9     0\n",
              "20417   OL0DIYZJ     0\n",
              "20418   OL0DIYKW     0\n",
              "20419   OL0DIYKZ     0\n",
              "20420   OL0DIYNJ     0\n",
              "20421   OL0DIYYR     0\n",
              "20422   OL0DIYYW     0\n",
              "20423   OL0DIY59     0\n",
              "20424   OL0DIY5D     0\n",
              "20425   OL0DIY5E     0\n",
              "20426   OL0DIYS5     0\n",
              "20427   OL0DI1Z5     0\n",
              "20428   OL0DI1ZJ     0\n",
              "20429   OL0DVM5W     0\n",
              "20430   OL0DV51W     0\n",
              "20431   OL0D50YD     0\n",
              "20432   OL0IGCNG     0\n",
              "20433   OL0ILMXE     0\n",
              "20434   OL0IL55Z     0\n",
              "20435   OL0IQ55W     0\n",
              "20436   OL0I6MQJ     0\n",
              "20437   OL0I6O5R     0\n",
              "20438   OL0I65ZW     0\n",
              "20439   OL0I6CXW     0\n",
              "20440     O2VIUO     0\n",
              "20441   M7VKV5QD     1\n",
              "\n",
              "[20442 rows x 2 columns]"
            ]
          },
          "metadata": {
            "tags": []
          },
          "execution_count": 112
        }
      ]
    }
  ]
}