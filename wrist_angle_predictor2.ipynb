{
  "nbformat": 4,
  "nbformat_minor": 0,
  "metadata": {
    "colab": {
      "name": "wrist_angle_predictor2.ipynb",
      "version": "0.3.2",
      "provenance": []
    },
    "kernelspec": {
      "name": "python3",
      "display_name": "Python 3"
    }
  },
  "cells": [
    {
      "cell_type": "code",
      "metadata": {
        "id": "XoKG5m2UX2EG",
        "colab_type": "code",
        "outputId": "10623aeb-1b26-45be-9245-cf246b586bd3",
        "colab": {
          "base_uri": "https://localhost:8080/",
          "height": 272
        }
      },
      "source": [
        "from __future__ import absolute_import, division, print_function, unicode_literals\n",
        "\n",
        "import tensorflow as tf\n",
        "from tensorflow.keras import layers\n",
        "import numpy as np\n",
        "import pandas as pd \n",
        "\n",
        "n=0\n",
        "\n",
        "emg = pd.read_csv('/content/25april 38400 delay afternoon features-edited.csv')\n",
        "emg['O']=emg['O'].replace(30,1)\n",
        "emg['O']=emg['O'].replace(60,2)\n",
        "emg['O']=emg['O'].replace(90,3)\n",
        "emg['O']=emg['O'].replace(120,4)\n",
        "emg['O']=emg['O'].replace(150,5)\n",
        "\n",
        "emgin=emg[['F','G','H']]\n",
        "a=emgin['F'].max()\n",
        "b=emgin['G'].max()\n",
        "c=emgin['H'].max()\n",
        "emgin['F']=emgin['F']/a\n",
        "emgin['G']=emgin['G']/b\n",
        "emgin['H']=emgin['H']/c\n",
        "emgin=np.array(emgin)\n",
        "emg_labels=emg['O']\n",
        "emg_labels=tf.one_hot(emg_labels, depth)\n",
        "sess=tf.Session()\n",
        "\n",
        "with sess as se:\n",
        "  emg_labels=se.run(emg_labels)\n",
        "\n"
      ],
      "execution_count": 32,
      "outputs": [
        {
          "output_type": "stream",
          "text": [
            "/usr/local/lib/python3.6/dist-packages/ipykernel_launcher.py:21: SettingWithCopyWarning: \n",
            "A value is trying to be set on a copy of a slice from a DataFrame.\n",
            "Try using .loc[row_indexer,col_indexer] = value instead\n",
            "\n",
            "See the caveats in the documentation: http://pandas.pydata.org/pandas-docs/stable/indexing.html#indexing-view-versus-copy\n",
            "/usr/local/lib/python3.6/dist-packages/ipykernel_launcher.py:22: SettingWithCopyWarning: \n",
            "A value is trying to be set on a copy of a slice from a DataFrame.\n",
            "Try using .loc[row_indexer,col_indexer] = value instead\n",
            "\n",
            "See the caveats in the documentation: http://pandas.pydata.org/pandas-docs/stable/indexing.html#indexing-view-versus-copy\n",
            "/usr/local/lib/python3.6/dist-packages/ipykernel_launcher.py:23: SettingWithCopyWarning: \n",
            "A value is trying to be set on a copy of a slice from a DataFrame.\n",
            "Try using .loc[row_indexer,col_indexer] = value instead\n",
            "\n",
            "See the caveats in the documentation: http://pandas.pydata.org/pandas-docs/stable/indexing.html#indexing-view-versus-copy\n"
          ],
          "name": "stderr"
        }
      ]
    },
    {
      "cell_type": "code",
      "metadata": {
        "id": "Kx4tI3KwRtns",
        "colab_type": "code",
        "colab": {
          "base_uri": "https://localhost:8080/",
          "height": 374
        },
        "outputId": "69f48c2d-8a5d-4c75-e755-16dad1d268a5"
      },
      "source": [
        "model= tf.keras.Sequential()\n",
        "model.add(layers.Dense(64,activation='relu'))\n",
        "model.add(layers.Dense(64,activation='relu'))\n",
        "model.add(layers.Dense(6,activation='softmax'))\n",
        "\n",
        "model = tf.keras.Sequential([\n",
        "layers.Dense(500, activation='relu', input_shape=(3,)),\n",
        "layers.Dense(500, activation='relu'),\n",
        "layers.Dense(6, activation='softmax')])\n",
        "\n",
        "model.compile(optimizer=tf.train.AdamOptimizer(0.001),\n",
        "              loss='categorical_crossentropy',\n",
        "              metrics=['accuracy'])\n",
        "\n",
        "\n",
        "model.fit(emgin, emg_labels, epochs=10, batch_size=10)\n"
      ],
      "execution_count": 34,
      "outputs": [
        {
          "output_type": "stream",
          "text": [
            "Epoch 1/10\n",
            "5508/5508 [==============================] - 2s 330us/sample - loss: 0.8018 - acc: 0.6523\n",
            "Epoch 2/10\n",
            "5508/5508 [==============================] - 2s 308us/sample - loss: 0.5545 - acc: 0.7324\n",
            "Epoch 3/10\n",
            "5508/5508 [==============================] - 2s 315us/sample - loss: 0.5266 - acc: 0.7467\n",
            "Epoch 4/10\n",
            "5508/5508 [==============================] - 2s 318us/sample - loss: 0.5005 - acc: 0.7631\n",
            "Epoch 5/10\n",
            "5508/5508 [==============================] - 2s 318us/sample - loss: 0.4894 - acc: 0.7672\n",
            "Epoch 6/10\n",
            "5508/5508 [==============================] - 2s 321us/sample - loss: 0.4843 - acc: 0.7714\n",
            "Epoch 7/10\n",
            "5508/5508 [==============================] - 2s 316us/sample - loss: 0.4780 - acc: 0.7658\n",
            "Epoch 8/10\n",
            "5508/5508 [==============================] - 2s 311us/sample - loss: 0.4752 - acc: 0.7654\n",
            "Epoch 9/10\n",
            "5508/5508 [==============================] - 2s 311us/sample - loss: 0.4684 - acc: 0.7745\n",
            "Epoch 10/10\n",
            "5508/5508 [==============================] - 2s 312us/sample - loss: 0.4585 - acc: 0.7783\n"
          ],
          "name": "stdout"
        },
        {
          "output_type": "execute_result",
          "data": {
            "text/plain": [
              "<tensorflow.python.keras.callbacks.History at 0x7f666670d9b0>"
            ]
          },
          "metadata": {
            "tags": []
          },
          "execution_count": 34
        }
      ]
    }
  ]
}