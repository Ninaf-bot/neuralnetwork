{
  "nbformat": 4,
  "nbformat_minor": 0,
  "metadata": {
    "colab": {
      "name": "wrist_angle_predictor2.ipynb",
      "version": "0.3.2",
      "provenance": []
    },
    "kernelspec": {
      "name": "python3",
      "display_name": "Python 3"
    },
    "accelerator": "GPU"
  },
  "cells": [
    {
      "cell_type": "code",
      "metadata": {
        "id": "XoKG5m2UX2EG",
        "colab_type": "code",
        "outputId": "855f6026-b268-4f52-feda-051d74efcb83",
        "colab": {
          "base_uri": "https://localhost:8080/",
          "height": 272
        }
      },
      "source": [
        "from __future__ import absolute_import, division, print_function, unicode_literals\n",
        "\n",
        "import tensorflow as tf\n",
        "from tensorflow.keras import layers\n",
        "import numpy as np\n",
        "import pandas as pd \n",
        "\n",
        "n=0\n",
        "\n",
        "emg = pd.read_csv('/content/25april 38400 delay afternoon features-edited.csv')\n",
        "emg['O']=emg['O'].replace(30,1)\n",
        "emg['O']=emg['O'].replace(60,2)\n",
        "emg['O']=emg['O'].replace(90,3)\n",
        "emg['O']=emg['O'].replace(120,4)\n",
        "emg['O']=emg['O'].replace(150,5)\n",
        "\n",
        "emgin=emg[['F','G','H']]\n",
        "a=emgin['F'].max()\n",
        "b=emgin['G'].max()\n",
        "c=emgin['H'].max()\n",
        "emgin['F']=emgin['F']/a\n",
        "emgin['G']=emgin['G']/b\n",
        "emgin['H']=emgin['H']/c\n",
        "emgin=np.array(emgin)\n",
        "emg_labels=emg['O']\n",
        "depth=6\n",
        "emg_labels=tf.one_hot(emg_labels, depth)\n",
        "sess=tf.Session()\n",
        "\n",
        "with sess as se:\n",
        "  emg_labels=se.run(emg_labels)\n",
        "\n"
      ],
      "execution_count": 23,
      "outputs": [
        {
          "output_type": "stream",
          "text": [
            "/usr/local/lib/python3.6/dist-packages/ipykernel_launcher.py:21: SettingWithCopyWarning: \n",
            "A value is trying to be set on a copy of a slice from a DataFrame.\n",
            "Try using .loc[row_indexer,col_indexer] = value instead\n",
            "\n",
            "See the caveats in the documentation: http://pandas.pydata.org/pandas-docs/stable/indexing.html#indexing-view-versus-copy\n",
            "/usr/local/lib/python3.6/dist-packages/ipykernel_launcher.py:22: SettingWithCopyWarning: \n",
            "A value is trying to be set on a copy of a slice from a DataFrame.\n",
            "Try using .loc[row_indexer,col_indexer] = value instead\n",
            "\n",
            "See the caveats in the documentation: http://pandas.pydata.org/pandas-docs/stable/indexing.html#indexing-view-versus-copy\n",
            "/usr/local/lib/python3.6/dist-packages/ipykernel_launcher.py:23: SettingWithCopyWarning: \n",
            "A value is trying to be set on a copy of a slice from a DataFrame.\n",
            "Try using .loc[row_indexer,col_indexer] = value instead\n",
            "\n",
            "See the caveats in the documentation: http://pandas.pydata.org/pandas-docs/stable/indexing.html#indexing-view-versus-copy\n"
          ],
          "name": "stderr"
        }
      ]
    },
    {
      "cell_type": "code",
      "metadata": {
        "id": "Kx4tI3KwRtns",
        "colab_type": "code",
        "colab": {
          "base_uri": "https://localhost:8080/",
          "height": 374
        },
        "outputId": "aeec5973-3c2f-41f5-a02a-45e2bc28a24f"
      },
      "source": [
        "model = tf.keras.Sequential([\n",
        "layers.Dense(500, activation='relu', input_shape=(3,)),\n",
        "layers.Dense(500, activation='relu'),\n",
        "layers.Dense(500, activation='relu'),\n",
        "layers.Dense(500, activation='relu'),\n",
        "layers.Dense(500, activation='relu'),\n",
        "layers.Dense(500, activation='relu'),\n",
        "layers.Dense(6, activation='softmax')])\n",
        "\n",
        "model.compile(optimizer=tf.train.AdamOptimizer(0.001),\n",
        "              loss='categorical_crossentropy',\n",
        "              metrics=['accuracy'])\n",
        "\n",
        "\n",
        "model.fit(emgin, emg_labels, epochs=10, batch_size=50)\n"
      ],
      "execution_count": 22,
      "outputs": [
        {
          "output_type": "stream",
          "text": [
            "Epoch 1/10\n",
            "5508/5508 [==============================] - 1s 125us/sample - loss: 0.8318 - acc: 0.6253\n",
            "Epoch 2/10\n",
            "5508/5508 [==============================] - 1s 92us/sample - loss: 0.5351 - acc: 0.7534\n",
            "Epoch 3/10\n",
            "5508/5508 [==============================] - 1s 92us/sample - loss: 0.5299 - acc: 0.7507\n",
            "Epoch 4/10\n",
            "5508/5508 [==============================] - 0s 90us/sample - loss: 0.5358 - acc: 0.7498\n",
            "Epoch 5/10\n",
            "5508/5508 [==============================] - 0s 86us/sample - loss: 0.4790 - acc: 0.7725\n",
            "Epoch 6/10\n",
            "5508/5508 [==============================] - 0s 88us/sample - loss: 0.4816 - acc: 0.7694\n",
            "Epoch 7/10\n",
            "5508/5508 [==============================] - 0s 86us/sample - loss: 0.4798 - acc: 0.7653\n",
            "Epoch 8/10\n",
            "5508/5508 [==============================] - 0s 88us/sample - loss: 0.4726 - acc: 0.7747\n",
            "Epoch 9/10\n",
            "5508/5508 [==============================] - 0s 88us/sample - loss: 0.4690 - acc: 0.7778\n",
            "Epoch 10/10\n",
            "5508/5508 [==============================] - 0s 88us/sample - loss: 0.4829 - acc: 0.7687\n"
          ],
          "name": "stdout"
        },
        {
          "output_type": "execute_result",
          "data": {
            "text/plain": [
              "<tensorflow.python.keras.callbacks.History at 0x7f02db80eda0>"
            ]
          },
          "metadata": {
            "tags": []
          },
          "execution_count": 22
        }
      ]
    },
    {
      "cell_type": "code",
      "metadata": {
        "id": "_XWP1Te5kany",
        "colab_type": "code",
        "colab": {
          "base_uri": "https://localhost:8080/",
          "height": 34
        },
        "outputId": "8b6f4d2f-b93e-42ec-eb8c-db05ef8ec5f4"
      },
      "source": [
        ""
      ],
      "execution_count": 2,
      "outputs": [
        {
          "output_type": "stream",
          "text": [
            "Found GPU at: /device:GPU:0\n"
          ],
          "name": "stdout"
        }
      ]
    }
  ]
}